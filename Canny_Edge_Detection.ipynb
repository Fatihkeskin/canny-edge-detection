{
  "nbformat": 4,
  "nbformat_minor": 0,
  "metadata": {
    "colab": {
      "name": "Canny Edge Detection.ipynb",
      "provenance": [],
      "collapsed_sections": [],
      "toc_visible": true
    },
    "kernelspec": {
      "name": "python3",
      "display_name": "Python 3"
    }
  },
  "cells": [
    {
      "cell_type": "code",
      "metadata": {
        "id": "oDkO9f-vTZ49"
      },
      "source": [
        "import matplotlib.image as img\n",
        "import matplotlib.pyplot as plt\n",
        "from skimage.color import rgb2gray\n",
        "import numpy as np \n",
        "from PIL import Image\n",
        "import cv2\n"
      ],
      "execution_count": null,
      "outputs": []
    },
    {
      "cell_type": "code",
      "metadata": {
        "id": "na9qxit-Pgs1"
      },
      "source": [
        "def show_image(image, title='Image', cmap_type = \"gray\") :\n",
        "  plt.imshow(image, cmap = cmap_type)\n",
        "  plt.axis('off')\n",
        "  plt.title(title)\n",
        "  plt.show()"
      ],
      "execution_count": null,
      "outputs": []
    },
    {
      "cell_type": "code",
      "metadata": {
        "id": "trXphz2_RUqT",
        "colab": {
          "base_uri": "https://localhost:8080/",
          "height": 35
        },
        "outputId": "97caa7df-beb0-4ae1-f60b-8f7ea1f1b4db"
      },
      "source": [
        "# grayscaled_image = np.array(Image.open(\"a/cameraman.jpg\").convert('L'))\n",
        "\n",
        "\"\"\"useful prints\"\"\"\n",
        "#show_image(im)\n",
        "#print(type(im))\n",
        "\n",
        "#with np.printoptions(threshold=np.inf):\n",
        "#  print(grayscaled_image) "
      ],
      "execution_count": null,
      "outputs": [
        {
          "output_type": "execute_result",
          "data": {
            "application/vnd.google.colaboratory.intrinsic+json": {
              "type": "string"
            },
            "text/plain": [
              "'useful prints'"
            ]
          },
          "metadata": {
            "tags": []
          },
          "execution_count": 3
        }
      ]
    },
    {
      "cell_type": "code",
      "metadata": {
        "id": "7uRzsBHM8Aes"
      },
      "source": [
        "def convolution(image, kernel):\n",
        "    # Flip the kernel\n",
        "    kernel = np.flip(kernel,0)\n",
        "    kernel = np.flip(kernel,1)\n",
        "\n",
        "    # Determine output image matrix size. Subtract Kernel Size (3) and add 1 to the original image\n",
        "    output_image_column_number = image.shape[0] - 2\n",
        "    output_image_row_number    = image.shape[1] - 2\n",
        "\n",
        "    #create output image matrix\n",
        "    output_image = np.zeros((output_image_column_number, output_image_row_number))\n",
        "\n",
        "    for y in range( output_image_row_number):\n",
        "        for x in range( output_image_column_number):     \n",
        "          list = kernel * image[x: x + 3, y: y + 3]\n",
        "          output_image[x, y] = list.sum() \n",
        "          \n",
        "\n",
        "    return output_image"
      ],
      "execution_count": null,
      "outputs": []
    },
    {
      "cell_type": "markdown",
      "metadata": {
        "id": "V20iUHY5C-rP"
      },
      "source": [
        "\"\"\"\n",
        "  # Create output matrix\n",
        "  suppressed_image = np.zeros(image.shape)\n",
        "  rows, cols = suppressed_image.shape[0], suppressed_image.shape[1]\n",
        "\n",
        "  for i in range(rows - 1):\n",
        "    for j in range(cols - 1):\n",
        "        \n",
        "      if (gradient_direction[i][j] >= 337.5 or gradient_direction[i][j] < 22.5) or (gradient_direction[i][j] >= 157.5 and gradient_direction[i][j] < 202.5):\n",
        "        if image[i][j] >= image[i][j + 1] and image[i][j] >= image[i][j - 1]:\n",
        "          suppressed_image[i][j] = image[i][j]\n",
        "  \n",
        "      if (gradient_direction[i][j] >= 22.5 and gradient_direction[i][j] < 67.5) or (gradient_direction[i][j] >= 202.5 and gradient_direction[i][j] < 247.5):\n",
        "        if image[i][j] >= image[i - 1][j + 1] and image[i][j] >= image[i + 1][j - 1]:\n",
        "          suppressed_image[i][j] = image[i][j]\n",
        "\n",
        "      if (gradient_direction[i][j] >= 67.5 and gradient_direction[i][j] < 112.5) or (gradient_direction[i][j] >= 247.5 and gradient_direction[i][j] < 292.5):\n",
        "        if image[i][j] >= image[i - 1][j] and image[i][j] >= image[i + 1][j]:\n",
        "          suppressed_image[i][j] = image[i][j]\n",
        "      # 135 degrees\n",
        "      if (gradient_direction[i][j] >= 112.5 and gradient_direction[i][j] < 157.5) or (gradient_direction[i][j] >= 292.5 and gradient_direction[i][j] < 337.5):\n",
        "        if image[i][j] >= image[i - 1][j - 1] and image[i][j] >= image[i + 1][j + 1]:\n",
        "          suppressed_image[i][j] = image[i][j]\n",
        "\n",
        "  return suppressed_image\n",
        "  \"\"\""
      ]
    },
    {
      "cell_type": "code",
      "metadata": {
        "id": "-EZAbqlD9OHQ",
        "colab": {
          "base_uri": "https://localhost:8080/",
          "height": 129
        },
        "outputId": "da96e792-aa8f-459b-fc53-c3339b1dbf5d"
      },
      "source": [
        "def non_maximum_suppression(image, direction):\n",
        "\n",
        "    rows, cols = image.shape[0], image.shape[1]\n",
        "    result = image.copy()\n",
        "\n",
        "    for x in range(rows):\n",
        "      for y in range(cols):\n",
        "          # 0 degrees\n",
        "          if (direction[x][y] < 22.5 and direction[x][y] >= 0) or (direction[x][y] >= 157.5 and direction[x][y] < 202.5) or \n",
        "          (direction[x][y] >= 337.5 and direction[x][y] <= 360):\n",
        "              direction[x][y] = 0\n",
        "          # 45 degrees\n",
        "          elif (direction[x][y] >= 22.5 and direction[x][y] < 67.5) or (direction[x][y] >= 202.5 and direction[x][y] < 247.5):\n",
        "              direction[x][y] = 45\n",
        "          # 90 degrees\n",
        "          elif (direction[x][y] >= 67.5 and direction[x][y] < 112.5) or (direction[x][y] >= 247.5 and direction[x][y] < 292.5):\n",
        "              direction[x][y] = 90\n",
        "          # 135 degrees\n",
        "          else:\n",
        "              direction[x][y] = 135\n",
        "\n",
        "    for x in range(1, rows-1):\n",
        "      for y in range(1, cols-1):\n",
        "          # 0 degrees\n",
        "          if direction[x][y] == 0:\n",
        "              if (result[x][y] <= result[x][y+1]) or (result[x][y] <= result[x][y-1]):\n",
        "                  result[x][y] = 0\n",
        "          # 45 degrees\n",
        "          elif direction[x][y] == 45:\n",
        "              if (result[x][y] <= result[x-1][y+1]) or (result[x][y] <= result[x+1][y-1]):\n",
        "                  result[x][y] = 0\n",
        "          # 90 degrees\n",
        "          elif direction[x][y] == 90:\n",
        "              if (result[x][y] <= result[x+1][y]) or (result[x][y] <= result[x-1][y]):\n",
        "                  result[x][y] = 0\n",
        "          # 135 degrees\n",
        "          elif direction[x][y] == 135:\n",
        "              if (result[x][y] <= result[x+1][y+1]) or (result[x][y] <= result[x-1][y-1]):\n",
        "                  result[x][y] = 0\n",
        "\n",
        "    return result"
      ],
      "execution_count": null,
      "outputs": [
        {
          "output_type": "error",
          "ename": "SyntaxError",
          "evalue": "ignored",
          "traceback": [
            "\u001b[0;36m  File \u001b[0;32m\"<ipython-input-5-b7ce680cb3bb>\"\u001b[0;36m, line \u001b[0;32m9\u001b[0m\n\u001b[0;31m    if (direction[x][y] < 22.5 and direction[x][y] >= 0) or (direction[x][y] >= 157.5 and direction[x][y] < 202.5) or\u001b[0m\n\u001b[0m                                                                                                                      ^\u001b[0m\n\u001b[0;31mSyntaxError\u001b[0m\u001b[0;31m:\u001b[0m invalid syntax\n"
          ]
        }
      ]
    },
    {
      "cell_type": "code",
      "metadata": {
        "id": "AUtaXV9eU89g"
      },
      "source": [
        "def double_thresholding(image):\n",
        "\n",
        "    # Create resulting image\n",
        "    output_image  = np.zeros(image.shape)\n",
        "    strong = 255\n",
        "    weak   = 75\n",
        "    mmax = np.max(image)\n",
        "    print(mmax)\n",
        "    low_threshold = 0.1 * mmax\n",
        "    high_threshold = 0.4 * mmax\n",
        "    for i in range(image.shape[0]):\n",
        "        for j in range(image.shape[1]):\n",
        "            if image[i][j] >= high_threshold:\n",
        "                output_image[i][j] = strong\n",
        "            elif image[i][j] >= low_threshold:\n",
        "                output_image[i][j] = weak\n",
        "    \n",
        "    #with np.printoptions(threshold=np.inf):\n",
        "    #  print(output_image) \n",
        "\n",
        "    return output_image"
      ],
      "execution_count": null,
      "outputs": []
    },
    {
      "cell_type": "code",
      "metadata": {
        "id": "-D2TEBqB9MqN"
      },
      "source": [
        "if __name__ == '__main__':\n",
        "    # Convert to Grayscale Image\n",
        "    image = np.array(Image.open(\"a/cameraman.jpg\").convert('L'))\n",
        "    # Gaussian Kernel\n",
        "    # kernel = np.array([[1, 4, 7, 4, 1],  [4, 16, 26, 16, 4], [7, 26, 41, 26, 7], [4, 16, 26, 16, 4], [1, 4, 7, 4, 1]])\n",
        "    kernel = np.array([[1/16,1/8,1/16],[1/8,1/4,1/8],[1/16,1/8,1/16]])\n",
        "\n",
        "    # Smooth image\n",
        "    smoothed_image = convolution(image, kernel)\n",
        "\n",
        "    # Edge Detection Kernels\n",
        "    Kx = np.array([[-1, 0, 1], [-2, 0, 2], [-1, 0, 1]])\n",
        "    Ky = np.array([[1, 2, 1], [0, 0, 0], [-1, -2, -1]])\n",
        "\n",
        "    # Take gradients for both x and y axes\n",
        "    gradient_x = convolution(smoothed_image, Kx)\n",
        "    gradient_y = convolution(smoothed_image, Ky)\n",
        "\n",
        "    # Calculate gradient magnitude matrix\n",
        "    gradient_magnitude = np.sqrt(gradient_x**2+ gradient_y**2)\n",
        "\n",
        "    # Calculate gradient direction matrix\n",
        "    gradient_direction = np.arctan2(gradient_y, gradient_x) * 180 / np.pi\n",
        "\n",
        "    # Replace the negative pi angle values with their absolute value\n",
        "    gradient_direction[gradient_direction < 0] += 180\n",
        "\n",
        "    # print(Theta)\n",
        "    \n",
        "    # show_image(output)\n",
        "    # cv2.imwrite('2DConvolved.bmp', output)"
      ],
      "execution_count": null,
      "outputs": []
    },
    {
      "cell_type": "code",
      "metadata": {
        "id": "jNooOSjmN91j"
      },
      "source": [
        "suppressed_image = non_maximum_suppression(gradient_magnitude, gradient_direction)"
      ],
      "execution_count": null,
      "outputs": []
    },
    {
      "cell_type": "code",
      "metadata": {
        "id": "-CjCEiK_VBKk"
      },
      "source": [
        "thresholded_image = double_thresholding(suppressed_image)"
      ],
      "execution_count": null,
      "outputs": []
    },
    {
      "cell_type": "code",
      "metadata": {
        "id": "8CpVpGcxX2p-"
      },
      "source": [
        "def hysteresis(image, strong = 255, weak = 75):\n",
        "    \n",
        "    M, N = image.shape  \n",
        "    \n",
        "    for i in range(1, M-1):\n",
        "        for j in range(1, N-1):\n",
        "            if image[i,j] == weak:              \n",
        "                if image[i+1, j-1] == strong or image[i+1, j] == strong or image[i+1, j+1] == strong\\\n",
        "                        or image[i, j-1] == strong or image[i, j+1] == strong \\\n",
        "                        or image[i-1, j-1] == strong or image[i-1, j] == strong or image[i-1, j+1] == strong:\n",
        "                  image[i, j] = 255\n",
        "                else:\n",
        "                  image[i, j] = 0\n",
        "\n",
        "    return image"
      ],
      "execution_count": null,
      "outputs": []
    },
    {
      "cell_type": "code",
      "metadata": {
        "id": "YP-3iEulX36A"
      },
      "source": [
        "canny_edge_image = hysteresis(thresholded_image)"
      ],
      "execution_count": null,
      "outputs": []
    },
    {
      "cell_type": "code",
      "metadata": {
        "id": "u7TPf3eA-SA9"
      },
      "source": [
        " show_image(canny_edge_image)\n",
        " #print(type(canny_edge_image))"
      ],
      "execution_count": null,
      "outputs": []
    },
    {
      "cell_type": "code",
      "metadata": {
        "id": "REm5YsPBedf6"
      },
      "source": [
        "import imageio\n",
        "imageio.imwrite('canny.png', canny_edge_image)\n",
        "imageio.imwrite('thres.png', thresholded_image)\n",
        "imageio.imwrite('gradient_x.png', gradient_x)\n",
        "imageio.imwrite('gradient_y.png', gradient_y)\n",
        "\n"
      ],
      "execution_count": null,
      "outputs": []
    }
  ]
}